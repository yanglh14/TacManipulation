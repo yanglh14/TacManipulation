{
 "cells": [
  {
   "cell_type": "code",
   "execution_count": 16,
   "id": "fd1e5f0a",
   "metadata": {},
   "outputs": [
    {
     "data": {
      "image/png": "[encoded data removed]",
      "text/plain": [
       "<Figure size 432x288 with 1 Axes>"
      ]
     },
     "metadata": {
      "needs_background": "light"
     },
     "output_type": "display_data"
    }
   ],
   "source": [
    "import time\n",
    "import numpy as np\n",
    "import matplotlib.pyplot as plt\n",
    "from mpl_toolkits.mplot3d import Axes3D\n",
    "from IPython import display\n",
    "\n",
    "plt.rcParams[\"font.family\"] = \"Times New Roman\"\n",
    "plt.rcParams['font.size'] = 12\n",
    "%matplotlib inline\n",
    "\n",
    "# %matplotlib notebook\n",
    "# %matplotlib auto\n",
    "# %config InlineBackend.figure_format = 'svg'\n",
    "\n",
    "data = np.load('../real_controller.npy', allow_pickle=True)\n",
    "cal_table = np.load('calibration_table.npy')\n",
    "data = data.item()\n",
    "\n",
    "tactile_log = np.array(data['tactile_log'])\n",
    "tactile_pos_log = np.array(data['tactile_pos_log'])\n",
    "\n",
    "# fig = plt.figure(figsize=(8, 8))\n",
    "# ax = fig.add_subplot(111)\n",
    "\n",
    "index1 = 0\n",
    "index2 = 653\n",
    "for i in range(10):\n",
    "    plt.cla()\n",
    "\n",
    "    x = tactile_pos_log[i,:,0]\n",
    "    y = tactile_pos_log[i,:,1]\n",
    "    z = tactile_pos_log[i,:,2]\n",
    "    tac = tactile_log[i,:]\n",
    "\n",
    "    tac[tac < cal_table[:, 1]] = 0\n",
    "    tac[tac > cal_table[:, 2]] = cal_table[tac > cal_table[:, 2], 2]\n",
    "    tac *= cal_table[:, 0]\n",
    "    \n",
    "    x = x[index1:index2]\n",
    "    y = y[index1:index2]\n",
    "    z = z[index1:index2]\n",
    "\n",
    "    tac = tac[index1:index2]\n",
    "    \n",
    "#     ax.scatter(x, y,s=(tac) * 1000+0.1)\n",
    "\n",
    "    \n",
    "    plt.cla()   \n",
    "\n",
    "    plt.scatter(x, y,s=(tac) * 1000+0.1)\n",
    "    display.clear_output(wait=True)\n",
    "    plt.pause(0.00000001) \n",
    "    \n"
   ]
  },
  {
   "cell_type": "code",
   "execution_count": 12,
   "id": "6af717ad",
   "metadata": {},
   "outputs": [],
   "source": [
    "import rospy\n",
    "from sensor_msgs.msg import JointState\n",
    "from std_msgs.msg import Header\n",
    "from allegro_tactile_cal.msg import tactile_msgs\n",
    "import numpy as np\n",
    "import time \n",
    "import matplotlib.pyplot as plt\n",
    "from mpl_toolkits.mplot3d import Axes3D\n",
    "from IPython import display\n",
    "\n",
    "%matplotlib inline\n",
    "\n",
    "class tactile_show():\n",
    "    def __init__(self):\n",
    "        \n",
    "        self.tac_buf = np.zeros(653)\n",
    "        self.tac = np.zeros(653)\n",
    "        tactile_pos = np.load('./tac_pos.npy', allow_pickle=True)\n",
    "        self.x = tactile_pos[:,0]\n",
    "        self.y = tactile_pos[:,1]\n",
    "    \n",
    "        self.cal_table = np.load('calibration_table.npy')\n",
    "        self.pub = rospy.Publisher('/allegroHand_0/joint_cmd', JointState, queue_size=10)\n",
    "        self.sub_tactile = rospy.Subscriber('allegro_tactile', tactile_msgs, self.allegro_tactile_callback)\n",
    "        rospy.init_node('allegro_hand', anonymous=True)\n",
    "        \n",
    "        self.initialize()\n",
    "    def allegro_tactile_callback(self, msg):\n",
    "        self.tac_buf[:113] = np.asarray(msg.palm_Value)\n",
    "\n",
    "        self.tac_buf[113:113+72] = np.asarray(msg.index_tip_Value)\n",
    "        self.tac_buf[113+72:113+72+36] = np.asarray(msg.index_mid_Value)\n",
    "        self.tac_buf[113+72+36:113+144] = np.asarray(msg.index_end_Value)\n",
    "\n",
    "        self.tac_buf[113+144:113+144+72] = np.asarray(msg.middle_tip_Value)\n",
    "        self.tac_buf[113+144+72:113+144+108] = np.asarray(msg.middle_mid_Value)\n",
    "        self.tac_buf[113+144+108:113+288] = np.asarray(msg.middle_end_Value)\n",
    "\n",
    "        self.tac_buf[113+288:113+288+72] = np.asarray(msg.ring_tip_Value)\n",
    "        self.tac_buf[113+288+72:113+288+108] = np.asarray(msg.ring_mid_Value)\n",
    "        self.tac_buf[113+288+108:113+288+144] = np.asarray(msg.ring_end_Value)\n",
    "\n",
    "        self.tac_buf[113+432:113+432+72] = np.asarray(msg.thumb_tip_Value)\n",
    "        self.tac_buf[113+432+72:113+432+108] = np.asarray(msg.thumb_mid_Value)\n",
    "\n",
    "    def initialize(self):\n",
    "        self.tac_init = []\n",
    "        for i in range(5):\n",
    "            self.tac_init.append(self.tac_buf)\n",
    "            time.sleep(0.1)\n",
    "        self.tac_init = np.average(np.array(self.tac_init),axis=0)\n",
    "        print('initialize success!')\n",
    "        \n",
    "    def visualize(self,index1,index2):\n",
    "        \n",
    "        plt.cla()\n",
    "        \n",
    "        tac = self.tac_buf - self.tac_init\n",
    "        tac[tac < self.cal_table[:, 1]] = 0\n",
    "        tac *= self.cal_table[:, 0]\n",
    "        self.tac_buf_ = tac\n",
    "        \n",
    "        self.tac[:15] = [self.tac_buf_[109],self.tac_buf_[105],self.tac_buf_[100],self.tac_buf_[95],self.tac_buf_[90],self.tac_buf_[85],self.tac_buf_[80],self.tac_buf_[75],self.tac_buf_[69],self.tac_buf_[59],self.tac_buf_[48],self.tac_buf_[36],self.tac_buf_[24],self.tac_buf_[12],self.tac_buf_[0]]\n",
    "        self.tac[15:30] = [self.tac_buf_[109+1],self.tac_buf_[105+1],self.tac_buf_[100+1],self.tac_buf_[95+1],self.tac_buf_[90+1],self.tac_buf_[85+1],self.tac_buf_[80+1],self.tac_buf_[75+1],self.tac_buf_[69+1],self.tac_buf_[59+1],self.tac_buf_[48+1],self.tac_buf_[36+1],self.tac_buf_[24+1],self.tac_buf_[12+1],self.tac_buf_[0+1]]\n",
    "        self.tac[30:45] = [self.tac_buf_[109+2],self.tac_buf_[105+2],self.tac_buf_[100+2],self.tac_buf_[95+2],self.tac_buf_[90+2],self.tac_buf_[85+2],self.tac_buf_[80+2],self.tac_buf_[75+2],self.tac_buf_[69+2],self.tac_buf_[59+2],self.tac_buf_[48+2],self.tac_buf_[36+2],self.tac_buf_[24+2],self.tac_buf_[12+2],self.tac_buf_[0+2]]\n",
    "        self.tac[45:60] = [self.tac_buf_[109+3],self.tac_buf_[105+3],self.tac_buf_[100+3],self.tac_buf_[95+3],self.tac_buf_[90+3],self.tac_buf_[85+3],self.tac_buf_[80+3],self.tac_buf_[75+3],self.tac_buf_[69+3],self.tac_buf_[59+3],self.tac_buf_[48+3],self.tac_buf_[36+3],self.tac_buf_[24+3],self.tac_buf_[12+3],self.tac_buf_[0+3]]\n",
    "        self.tac[60:73] = [self.tac_buf_[100+4],self.tac_buf_[95+4],self.tac_buf_[90+4],self.tac_buf_[85+4],self.tac_buf_[80+4],self.tac_buf_[75+4],self.tac_buf_[69+4],self.tac_buf_[59+4],self.tac_buf_[48+4],self.tac_buf_[36+4],self.tac_buf_[24+4],self.tac_buf_[12+4],self.tac_buf_[0+4]]\n",
    "        self.tac[73:79] = [self.tac_buf_[59+5],self.tac_buf_[48+5],self.tac_buf_[36+5],self.tac_buf_[24+5],self.tac_buf_[12+5],self.tac_buf_[0+5]]\n",
    "        self.tac[79:85] = [self.tac_buf_[59+6],self.tac_buf_[48+6],self.tac_buf_[36+6],self.tac_buf_[24+6],self.tac_buf_[12+6],self.tac_buf_[0+6]]\n",
    "        self.tac[85:91] = [self.tac_buf_[59+7],self.tac_buf_[48+7],self.tac_buf_[36+7],self.tac_buf_[24+7],self.tac_buf_[12+7],self.tac_buf_[0+7]]\n",
    "        self.tac[91:97] = [self.tac_buf_[59+8],self.tac_buf_[48+8],self.tac_buf_[36+8],self.tac_buf_[24+8],self.tac_buf_[12+8],self.tac_buf_[0+8]]\n",
    "        self.tac[97:102] = [self.tac_buf_[48+9],self.tac_buf_[36+9],self.tac_buf_[24+9],self.tac_buf_[12+9],self.tac_buf_[0+9]]\n",
    "        self.tac[102:106] = [self.tac_buf_[36+10],self.tac_buf_[24+10],self.tac_buf_[12+10],self.tac_buf_[0+10]]\n",
    "        self.tac[106:113] = [self.tac_buf_[74],self.tac_buf_[68],self.tac_buf_[458],self.tac_buf_[36+11],self.tac_buf_[24+11],self.tac_buf_[12+11],self.tac_buf_[0+11]]\n",
    "\n",
    "        self.tac[113:113+72] = self.tac_buf_[113:113+72]\n",
    "        self.tac[113+72:113 + 72+36] = self.tac_buf_[113+72:113+72+36].reshape(6,6).transpose().reshape(36)\n",
    "        self.tac[113+72+36:113+144] = self.tac_buf_[113+72+36:113+144].reshape(6,6).transpose().reshape(36)\n",
    "\n",
    "        self.tac[113+144:113+144+72] = self.tac_buf_[113+144:113+144+72]\n",
    "        self.tac[113+144+72:113+144+108] = self.tac_buf_[113+144+72:113+144+108].reshape(6,6).transpose().reshape(36)\n",
    "        self.tac[113+144+108:113+288] = self.tac_buf_[113+144+108:113+288].reshape(6,6).transpose().reshape(36)\n",
    "\n",
    "        self.tac[113+288:113+288+72] = self.tac_buf_[113+288:113+288+72]\n",
    "        self.tac[113+288+72:113+288+108] = self.tac_buf_[113+288+72:113+288+108].reshape(6,6).transpose().reshape(36)\n",
    "        self.tac[113+288+108:113+288+144] = self.tac_buf_[113+288+108:113+288+144].reshape(6,6).transpose().reshape(36)\n",
    "\n",
    "        self.tac[113+432:113+432+72] = self.tac_buf_[113+432:113+432+72]\n",
    "        self.tac[113+432+72:113+432+108] = self.tac_buf_[113+432+72:113+432+108].reshape(6,6).transpose().reshape(36)\n",
    "        \n",
    "\n",
    "        plt.scatter(self.x[index1:index2], self.y[index1:index2],s=(self.tac[index1:index2]) * 500+0.1)\n",
    "        display.clear_output(wait=True)\n",
    "        plt.pause(0.00000001) \n",
    "        \n",
    "#         print((self.tac_buf - self.tac_init)[tac>0])\n"
   ]
  },
  {
   "cell_type": "code",
   "execution_count": 23,
   "id": "d04aa422",
   "metadata": {},
   "outputs": [
    {
     "data": {
      "image/png": "[encoded data removed]",
      "text/plain": [
       "<Figure size 432x288 with 1 Axes>"
      ]
     },
     "metadata": {
      "needs_background": "light"
     },
     "output_type": "display_data"
    }
   ],
   "source": [
    "tactile = tactile_show()\n",
    "\n",
    "for i in range(100):\n",
    "    tactile.visualize(113+144+72,113+144+72+36)\n",
    "    time.sleep(0.1)"
   ]
  },
  {
   "cell_type": "code",
   "execution_count": 3,
   "id": "20b16867",
   "metadata": {},
   "outputs": [],
   "source": [
    "cal_table = np.load('calibration_table.npy')"
   ]
  },
  {
   "cell_type": "code",
   "execution_count": null,
   "id": "66753d88",
   "metadata": {},
   "outputs": [],
   "source": []
  }
 ],
 "metadata": {
  "kernelspec": {
   "display_name": "Python 3 (ipykernel)",
   "language": "python",
   "name": "python3"
  },
  "language_info": {
   "codemirror_mode": {
    "name": "ipython",
    "version": 3
   },
   "file_extension": ".py",
   "mimetype": "text/x-python",
   "name": "python",
   "nbconvert_exporter": "python",
   "pygments_lexer": "ipython3",
   "version": "3.7.11"
  }
 },
 "nbformat": 4,
 "nbformat_minor": 5
}
